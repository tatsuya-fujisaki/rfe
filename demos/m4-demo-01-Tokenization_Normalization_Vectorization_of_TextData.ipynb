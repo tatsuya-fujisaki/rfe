{
 "cells": [
  {
   "cell_type": "markdown",
   "metadata": {},
   "source": [
    "#### Amazon baby reviews dataset\n",
    "\n",
    "https://www.kaggle.com/roopalik/amazon-baby-dataset#reviews_Baby_5_final_dataset.csv"
   ]
  },
  {
   "cell_type": "markdown",
   "metadata": {},
   "source": [
    "### Install and import libraries"
   ]
  },
  {
   "cell_type": "code",
   "execution_count": 1,
   "metadata": {},
   "outputs": [
    {
     "name": "stdout",
     "output_type": "stream",
     "text": [
      "Collecting nltk\n",
      "  Downloading nltk-3.6.5-py3-none-any.whl (1.5 MB)\n",
      "     |████████████████████████████████| 1.5 MB 7.2 MB/s            \n",
      "\u001b[?25hRequirement already satisfied: joblib in /Users/tatsuya.fujisaki/opt/anaconda3/lib/python3.8/site-packages (from nltk) (1.1.0)\n",
      "Requirement already satisfied: click in /Users/tatsuya.fujisaki/opt/anaconda3/lib/python3.8/site-packages (from nltk) (8.0.1)\n",
      "Requirement already satisfied: tqdm in /Users/tatsuya.fujisaki/opt/anaconda3/lib/python3.8/site-packages (from nltk) (4.62.1)\n",
      "Requirement already satisfied: regex>=2021.8.3 in /Users/tatsuya.fujisaki/opt/anaconda3/lib/python3.8/site-packages (from nltk) (2021.9.30)\n",
      "Installing collected packages: nltk\n",
      "Successfully installed nltk-3.6.5\n"
     ]
    }
   ],
   "source": [
    "!pip install nltk"
   ]
  },
  {
   "cell_type": "markdown",
   "metadata": {},
   "source": [
    "Correctly generate plurals, singular nouns, ordinals, indefinite articles; convert numbers to words"
   ]
  },
  {
   "cell_type": "code",
   "execution_count": 2,
   "metadata": {},
   "outputs": [
    {
     "name": "stdout",
     "output_type": "stream",
     "text": [
      "Collecting inflect\n",
      "  Downloading inflect-5.3.0-py3-none-any.whl (32 kB)\n",
      "Installing collected packages: inflect\n",
      "Successfully installed inflect-5.3.0\n"
     ]
    }
   ],
   "source": [
    "!pip install inflect"
   ]
  },
  {
   "cell_type": "code",
   "execution_count": 3,
   "metadata": {},
   "outputs": [],
   "source": [
    "import pandas as pd\n",
    "import matplotlib.pyplot as plt\n",
    "\n",
    "import nltk\n",
    "from nltk import word_tokenize"
   ]
  },
  {
   "cell_type": "code",
   "execution_count": 4,
   "metadata": {},
   "outputs": [
    {
     "name": "stderr",
     "output_type": "stream",
     "text": [
      "[nltk_data] Downloading package wordnet to\n",
      "[nltk_data]     /Users/tatsuya.fujisaki/nltk_data...\n",
      "[nltk_data]   Unzipping corpora/wordnet.zip.\n"
     ]
    },
    {
     "data": {
      "text/plain": [
       "True"
      ]
     },
     "execution_count": 4,
     "metadata": {},
     "output_type": "execute_result"
    }
   ],
   "source": [
    "nltk.download('wordnet')"
   ]
  },
  {
   "cell_type": "code",
   "execution_count": 5,
   "metadata": {},
   "outputs": [
    {
     "name": "stderr",
     "output_type": "stream",
     "text": [
      "[nltk_data] Downloading package punkt to\n",
      "[nltk_data]     /Users/tatsuya.fujisaki/nltk_data...\n",
      "[nltk_data]   Unzipping tokenizers/punkt.zip.\n"
     ]
    },
    {
     "data": {
      "text/plain": [
       "True"
      ]
     },
     "execution_count": 5,
     "metadata": {},
     "output_type": "execute_result"
    }
   ],
   "source": [
    "nltk.download('punkt')"
   ]
  },
  {
   "cell_type": "markdown",
   "metadata": {},
   "source": [
    "### Load and read datasets from local hard disk and see first five records\n",
    "It contains reviews of baby products from an ecommerce site (Amazon)"
   ]
  },
  {
   "cell_type": "code",
   "execution_count": 6,
   "metadata": {},
   "outputs": [
    {
     "data": {
      "text/html": [
       "<div>\n",
       "<style scoped>\n",
       "    .dataframe tbody tr th:only-of-type {\n",
       "        vertical-align: middle;\n",
       "    }\n",
       "\n",
       "    .dataframe tbody tr th {\n",
       "        vertical-align: top;\n",
       "    }\n",
       "\n",
       "    .dataframe thead th {\n",
       "        text-align: right;\n",
       "    }\n",
       "</style>\n",
       "<table border=\"1\" class=\"dataframe\">\n",
       "  <thead>\n",
       "    <tr style=\"text-align: right;\">\n",
       "      <th></th>\n",
       "      <th>reviewerID</th>\n",
       "      <th>asin</th>\n",
       "      <th>reviewerName</th>\n",
       "      <th>helpful</th>\n",
       "      <th>helpful_num</th>\n",
       "      <th>helpful_den</th>\n",
       "      <th>reviewText</th>\n",
       "      <th>overall</th>\n",
       "      <th>summary</th>\n",
       "      <th>unixReviewTime</th>\n",
       "      <th>reviewTime</th>\n",
       "      <th>exclamationcount</th>\n",
       "      <th>questioncount</th>\n",
       "      <th>charcount</th>\n",
       "      <th>wordcount</th>\n",
       "      <th>capcount</th>\n",
       "      <th>avgrating</th>\n",
       "      <th>diffrating</th>\n",
       "      <th>ishelpful</th>\n",
       "    </tr>\n",
       "  </thead>\n",
       "  <tbody>\n",
       "    <tr>\n",
       "      <th>0</th>\n",
       "      <td>A3NMPMELAZC8ZY</td>\n",
       "      <td>097293751X</td>\n",
       "      <td>Jakell</td>\n",
       "      <td>[3, 3]</td>\n",
       "      <td>3</td>\n",
       "      <td>3</td>\n",
       "      <td>This book is perfect!  I'm a first time new mo...</td>\n",
       "      <td>5</td>\n",
       "      <td>Great for newborns</td>\n",
       "      <td>1359244800</td>\n",
       "      <td>01 27, 2013</td>\n",
       "      <td>1</td>\n",
       "      <td>0</td>\n",
       "      <td>250</td>\n",
       "      <td>46</td>\n",
       "      <td>0</td>\n",
       "      <td>4.0</td>\n",
       "      <td>1.0</td>\n",
       "      <td>1</td>\n",
       "    </tr>\n",
       "    <tr>\n",
       "      <th>1</th>\n",
       "      <td>A3O4ATU0ENBKTU</td>\n",
       "      <td>097293751X</td>\n",
       "      <td>MAPN</td>\n",
       "      <td>[1, 1]</td>\n",
       "      <td>1</td>\n",
       "      <td>1</td>\n",
       "      <td>I use this so that our babysitter (grandma) ca...</td>\n",
       "      <td>5</td>\n",
       "      <td>Compact and Easy way to record the milestones</td>\n",
       "      <td>1361836800</td>\n",
       "      <td>02 26, 2013</td>\n",
       "      <td>0</td>\n",
       "      <td>0</td>\n",
       "      <td>734</td>\n",
       "      <td>148</td>\n",
       "      <td>0</td>\n",
       "      <td>4.0</td>\n",
       "      <td>1.0</td>\n",
       "      <td>1</td>\n",
       "    </tr>\n",
       "    <tr>\n",
       "      <th>2</th>\n",
       "      <td>A2SYNL4YX73KNY</td>\n",
       "      <td>097293751X</td>\n",
       "      <td>R. Davidson \"Jrdpa\"</td>\n",
       "      <td>[2, 2]</td>\n",
       "      <td>2</td>\n",
       "      <td>2</td>\n",
       "      <td>I like this log, but think it would work bette...</td>\n",
       "      <td>3</td>\n",
       "      <td>Needs clearer AM &amp; PM</td>\n",
       "      <td>1369008000</td>\n",
       "      <td>05 20, 2013</td>\n",
       "      <td>0</td>\n",
       "      <td>0</td>\n",
       "      <td>288</td>\n",
       "      <td>59</td>\n",
       "      <td>2</td>\n",
       "      <td>4.0</td>\n",
       "      <td>1.0</td>\n",
       "      <td>1</td>\n",
       "    </tr>\n",
       "    <tr>\n",
       "      <th>3</th>\n",
       "      <td>A2Q2A6JKY95RTP</td>\n",
       "      <td>097293751X</td>\n",
       "      <td>R. Garrelts</td>\n",
       "      <td>[2, 2]</td>\n",
       "      <td>2</td>\n",
       "      <td>2</td>\n",
       "      <td>My wife and I have a six month old baby boy an...</td>\n",
       "      <td>3</td>\n",
       "      <td>Expensive and Somewhat Limited Format</td>\n",
       "      <td>1381968000</td>\n",
       "      <td>10 17, 2013</td>\n",
       "      <td>0</td>\n",
       "      <td>0</td>\n",
       "      <td>2959</td>\n",
       "      <td>505</td>\n",
       "      <td>9</td>\n",
       "      <td>4.0</td>\n",
       "      <td>1.0</td>\n",
       "      <td>1</td>\n",
       "    </tr>\n",
       "    <tr>\n",
       "      <th>4</th>\n",
       "      <td>A21I33AWNOWMK8</td>\n",
       "      <td>9729375011</td>\n",
       "      <td>EmilyS</td>\n",
       "      <td>[1, 2]</td>\n",
       "      <td>1</td>\n",
       "      <td>2</td>\n",
       "      <td>I have used this book since my son was born.  ...</td>\n",
       "      <td>5</td>\n",
       "      <td>Great product!</td>\n",
       "      <td>1364256000</td>\n",
       "      <td>03 26, 2013</td>\n",
       "      <td>0</td>\n",
       "      <td>0</td>\n",
       "      <td>595</td>\n",
       "      <td>117</td>\n",
       "      <td>0</td>\n",
       "      <td>4.5</td>\n",
       "      <td>0.5</td>\n",
       "      <td>0</td>\n",
       "    </tr>\n",
       "  </tbody>\n",
       "</table>\n",
       "</div>"
      ],
      "text/plain": [
       "       reviewerID        asin        reviewerName  helpful  helpful_num  \\\n",
       "0  A3NMPMELAZC8ZY  097293751X               Jakell  [3, 3]            3   \n",
       "1  A3O4ATU0ENBKTU  097293751X                 MAPN  [1, 1]            1   \n",
       "2  A2SYNL4YX73KNY  097293751X  R. Davidson \"Jrdpa\"  [2, 2]            2   \n",
       "3  A2Q2A6JKY95RTP  097293751X          R. Garrelts  [2, 2]            2   \n",
       "4  A21I33AWNOWMK8  9729375011               EmilyS  [1, 2]            1   \n",
       "\n",
       "   helpful_den                                         reviewText  overall  \\\n",
       "0            3  This book is perfect!  I'm a first time new mo...        5   \n",
       "1            1  I use this so that our babysitter (grandma) ca...        5   \n",
       "2            2  I like this log, but think it would work bette...        3   \n",
       "3            2  My wife and I have a six month old baby boy an...        3   \n",
       "4            2  I have used this book since my son was born.  ...        5   \n",
       "\n",
       "                                         summary  unixReviewTime   reviewTime  \\\n",
       "0                             Great for newborns      1359244800  01 27, 2013   \n",
       "1  Compact and Easy way to record the milestones      1361836800  02 26, 2013   \n",
       "2                          Needs clearer AM & PM      1369008000  05 20, 2013   \n",
       "3          Expensive and Somewhat Limited Format      1381968000  10 17, 2013   \n",
       "4                                 Great product!      1364256000  03 26, 2013   \n",
       "\n",
       "   exclamationcount  questioncount  charcount  wordcount  capcount  avgrating  \\\n",
       "0                 1              0        250         46         0        4.0   \n",
       "1                 0              0        734        148         0        4.0   \n",
       "2                 0              0        288         59         2        4.0   \n",
       "3                 0              0       2959        505         9        4.0   \n",
       "4                 0              0        595        117         0        4.5   \n",
       "\n",
       "   diffrating  ishelpful  \n",
       "0         1.0          1  \n",
       "1         1.0          1  \n",
       "2         1.0          1  \n",
       "3         1.0          1  \n",
       "4         0.5          0  "
      ]
     },
     "execution_count": 6,
     "metadata": {},
     "output_type": "execute_result"
    }
   ],
   "source": [
    "data = pd.read_csv('datasets/reviews_Baby_5_final_dataset.csv')\n",
    "data.head()"
   ]
  },
  {
   "cell_type": "markdown",
   "metadata": {},
   "source": [
    "### Shape of our datasets "
   ]
  },
  {
   "cell_type": "code",
   "execution_count": 7,
   "metadata": {},
   "outputs": [
    {
     "data": {
      "text/plain": [
       "(56950, 19)"
      ]
     },
     "execution_count": 7,
     "metadata": {},
     "output_type": "execute_result"
    }
   ],
   "source": [
    "data.shape"
   ]
  },
  {
   "cell_type": "markdown",
   "metadata": {},
   "source": [
    "### Take only review text data for sentiment analysis and ignore left columns"
   ]
  },
  {
   "cell_type": "code",
   "execution_count": 8,
   "metadata": {},
   "outputs": [
    {
     "data": {
      "text/html": [
       "<div>\n",
       "<style scoped>\n",
       "    .dataframe tbody tr th:only-of-type {\n",
       "        vertical-align: middle;\n",
       "    }\n",
       "\n",
       "    .dataframe tbody tr th {\n",
       "        vertical-align: top;\n",
       "    }\n",
       "\n",
       "    .dataframe thead th {\n",
       "        text-align: right;\n",
       "    }\n",
       "</style>\n",
       "<table border=\"1\" class=\"dataframe\">\n",
       "  <thead>\n",
       "    <tr style=\"text-align: right;\">\n",
       "      <th></th>\n",
       "      <th>reviewText</th>\n",
       "    </tr>\n",
       "  </thead>\n",
       "  <tbody>\n",
       "    <tr>\n",
       "      <th>0</th>\n",
       "      <td>This book is perfect!  I'm a first time new mo...</td>\n",
       "    </tr>\n",
       "    <tr>\n",
       "      <th>1</th>\n",
       "      <td>I use this so that our babysitter (grandma) ca...</td>\n",
       "    </tr>\n",
       "    <tr>\n",
       "      <th>2</th>\n",
       "      <td>I like this log, but think it would work bette...</td>\n",
       "    </tr>\n",
       "    <tr>\n",
       "      <th>3</th>\n",
       "      <td>My wife and I have a six month old baby boy an...</td>\n",
       "    </tr>\n",
       "    <tr>\n",
       "      <th>4</th>\n",
       "      <td>I have used this book since my son was born.  ...</td>\n",
       "    </tr>\n",
       "  </tbody>\n",
       "</table>\n",
       "</div>"
      ],
      "text/plain": [
       "                                          reviewText\n",
       "0  This book is perfect!  I'm a first time new mo...\n",
       "1  I use this so that our babysitter (grandma) ca...\n",
       "2  I like this log, but think it would work bette...\n",
       "3  My wife and I have a six month old baby boy an...\n",
       "4  I have used this book since my son was born.  ..."
      ]
     },
     "execution_count": 8,
     "metadata": {},
     "output_type": "execute_result"
    }
   ],
   "source": [
    "data = data[['reviewText']]\n",
    "data.head()"
   ]
  },
  {
   "cell_type": "markdown",
   "metadata": {},
   "source": [
    "### We'll work with just the first 6 documents for now\n",
    "We can examine the documents in detail to understand how the transformations we will apply work"
   ]
  },
  {
   "cell_type": "code",
   "execution_count": 9,
   "metadata": {},
   "outputs": [],
   "source": [
    "data = data[:6]"
   ]
  },
  {
   "cell_type": "markdown",
   "metadata": {},
   "source": [
    "### Shape of dataset after taking fraction of datasets "
   ]
  },
  {
   "cell_type": "code",
   "execution_count": 10,
   "metadata": {},
   "outputs": [
    {
     "data": {
      "text/plain": [
       "(6, 1)"
      ]
     },
     "execution_count": 10,
     "metadata": {},
     "output_type": "execute_result"
    }
   ],
   "source": [
    "data.shape"
   ]
  },
  {
   "cell_type": "markdown",
   "metadata": {},
   "source": [
    "### Converted into a list"
   ]
  },
  {
   "cell_type": "code",
   "execution_count": 11,
   "metadata": {},
   "outputs": [],
   "source": [
    "documents = list(data['reviewText'])"
   ]
  },
  {
   "cell_type": "markdown",
   "metadata": {},
   "source": [
    "### See our original text data"
   ]
  },
  {
   "cell_type": "code",
   "execution_count": 12,
   "metadata": {},
   "outputs": [
    {
     "name": "stdout",
     "output_type": "stream",
     "text": [
      "This book is perfect!  I'm a first time new mom, and this book made it so easy to keep track of feedings, diaper changes, sleep.  Definitely would recommend this for new moms.  Plus it's small enough that I throw in the diaper back for doctor visits.\n"
     ]
    }
   ],
   "source": [
    "print(documents[0])"
   ]
  },
  {
   "cell_type": "markdown",
   "metadata": {},
   "source": [
    "### Word wise tokenization"
   ]
  },
  {
   "cell_type": "code",
   "execution_count": 13,
   "metadata": {},
   "outputs": [],
   "source": [
    "document_word_tokens = []\n",
    "\n",
    "for document in documents:\n",
    "    tokenize_word = word_tokenize(document)\n",
    "\n",
    "    document_word_tokens.append(tokenize_word)    "
   ]
  },
  {
   "cell_type": "code",
   "execution_count": 14,
   "metadata": {},
   "outputs": [
    {
     "name": "stdout",
     "output_type": "stream",
     "text": [
      "['This', 'book', 'is', 'perfect', '!', 'I', \"'m\", 'a', 'first', 'time', 'new', 'mom', ',', 'and', 'this', 'book', 'made', 'it', 'so', 'easy', 'to', 'keep', 'track', 'of', 'feedings', ',', 'diaper', 'changes', ',', 'sleep', '.', 'Definitely', 'would', 'recommend', 'this', 'for', 'new', 'moms', '.', 'Plus', 'it', \"'s\", 'small', 'enough', 'that', 'I', 'throw', 'in', 'the', 'diaper', 'back', 'for', 'doctor', 'visits', '.']\n"
     ]
    }
   ],
   "source": [
    "print(document_word_tokens[0])"
   ]
  },
  {
   "cell_type": "code",
   "execution_count": 15,
   "metadata": {},
   "outputs": [
    {
     "name": "stdout",
     "output_type": "stream",
     "text": [
      "['I', 'like', 'this', 'log', ',', 'but', 'think', 'it', 'would', 'work', 'better', 'with', 'clearer', 'AM', '&', 'PM', 'sections', '.', 'Each', 'page', 'is', '12', 'hours', 'so', 'you', 'really', 'need', 'two', 'pages', 'a', 'day', 'if', 'your', 'baby', 'feeds', 'or', 'wets', 'a', 'lot', 'in', 'the', 'early', 'morning', 'hours', 'between', 'midnight', 'and', '7am', '.', 'We', \"'re\", 'cramming', 'those', 'in', 'to', 'the', '2', 'blank', 'spaces', 'above', '7am', 'right', 'now', '.']\n"
     ]
    }
   ],
   "source": [
    "print(document_word_tokens[2])"
   ]
  },
  {
   "cell_type": "markdown",
   "metadata": {},
   "source": [
    "### Frequency of each word"
   ]
  },
  {
   "cell_type": "code",
   "execution_count": 16,
   "metadata": {},
   "outputs": [],
   "source": [
    "from nltk.probability import FreqDist\n",
    "\n",
    "fdist = FreqDist(document_word_tokens[0])"
   ]
  },
  {
   "cell_type": "markdown",
   "metadata": {},
   "source": [
    "#### The most common words in this document"
   ]
  },
  {
   "cell_type": "code",
   "execution_count": 17,
   "metadata": {},
   "outputs": [
    {
     "data": {
      "text/plain": [
       "[(',', 3),\n",
       " ('.', 3),\n",
       " ('book', 2),\n",
       " ('I', 2),\n",
       " ('new', 2),\n",
       " ('this', 2),\n",
       " ('it', 2),\n",
       " ('diaper', 2),\n",
       " ('for', 2),\n",
       " ('This', 1),\n",
       " ('is', 1),\n",
       " ('perfect', 1),\n",
       " ('!', 1),\n",
       " (\"'m\", 1),\n",
       " ('a', 1)]"
      ]
     },
     "execution_count": 17,
     "metadata": {},
     "output_type": "execute_result"
    }
   ],
   "source": [
    "fdist.most_common(15)"
   ]
  },
  {
   "cell_type": "markdown",
   "metadata": {},
   "source": [
    "#### Visualize the frequencies of the words"
   ]
  },
  {
   "cell_type": "code",
   "execution_count": 18,
   "metadata": {},
   "outputs": [
    {
     "data": {
      "image/png": "[encoded data removed]",
      "text/plain": [
       "<Figure size 1296x432 with 1 Axes>"
      ]
     },
     "metadata": {
      "needs_background": "light"
     },
     "output_type": "display_data"
    }
   ],
   "source": [
    "plt.figure(figsize=(18, 6))\n",
    "\n",
    "fdist.plot(cumulative=False)\n",
    "\n",
    "plt.show()"
   ]
  },
  {
   "cell_type": "markdown",
   "metadata": {},
   "source": [
    "### Normalization"
   ]
  },
  {
   "cell_type": "code",
   "execution_count": 19,
   "metadata": {},
   "outputs": [],
   "source": [
    "import re, string, unicodedata\n",
    "import nltk\n",
    "import inflect\n",
    "\n",
    "from nltk.corpus import stopwords\n",
    "from nltk.stem import WordNetLemmatizer"
   ]
  },
  {
   "cell_type": "code",
   "execution_count": 20,
   "metadata": {},
   "outputs": [],
   "source": [
    "def to_lowercase(documents):\n",
    "    \n",
    "    documents_list = []\n",
    "    \n",
    "    for document in documents:\n",
    "        new_word = document.lower()\n",
    "        documents_list.append(new_word)\n",
    "        \n",
    "    return documents_list"
   ]
  },
  {
   "cell_type": "markdown",
   "metadata": {},
   "source": [
    "### Remove punctuation\n",
    "\n",
    "The regular expression [^\\w\\s] means \"not alphanumeric or whitespace\"\n",
    "* ^ translates to NOT\n",
    "* \\w denotes an alphanumeric character\n",
    "* \\s represents whitespace"
   ]
  },
  {
   "cell_type": "code",
   "execution_count": 21,
   "metadata": {},
   "outputs": [],
   "source": [
    "def remove_punctuation(documents):\n",
    "    \n",
    "    documents_list = []\n",
    "    \n",
    "    for document in documents:\n",
    "        \n",
    "        new_word = re.sub('[^\\w\\s]', '', document)\n",
    "        \n",
    "        if new_word != '':\n",
    "            documents_list.append(new_word)\n",
    "            \n",
    "    return documents_list"
   ]
  },
  {
   "cell_type": "code",
   "execution_count": 22,
   "metadata": {},
   "outputs": [],
   "source": [
    "def replace_numbers(documents):\n",
    "    \n",
    "    documents_list = []\n",
    "    inf_engine = inflect.engine()\n",
    "    \n",
    "    for document in documents:\n",
    "        \n",
    "        final_word_list = []\n",
    "        words = document.split()\n",
    "        \n",
    "        for word in words:\n",
    "            \n",
    "            if word.isdigit():\n",
    "                final_word_list.append(inf_engine.number_to_words(word))\n",
    "            else:\n",
    "                final_word_list.append(word)\n",
    "        \n",
    "        documents_list.append(\" \".join(final_word_list))\n",
    "        \n",
    "    return documents_list"
   ]
  },
  {
   "cell_type": "code",
   "execution_count": 23,
   "metadata": {},
   "outputs": [],
   "source": [
    "def lemmatize_verbs(documents):\n",
    "    \n",
    "    lemmatizer = WordNetLemmatizer()\n",
    "    documents_list = []\n",
    "    \n",
    "    for document in documents:\n",
    "        \n",
    "        final_word_list = []\n",
    "        words = document.split()\n",
    "        \n",
    "        for word in words:\n",
    "            final_word_list.append(lemmatizer.lemmatize(word, pos='v'))\n",
    "        \n",
    "        documents_list.append(\" \".join(final_word_list))\n",
    "        \n",
    "    return documents_list"
   ]
  },
  {
   "cell_type": "code",
   "execution_count": 24,
   "metadata": {},
   "outputs": [],
   "source": [
    "def normalization(documents):\n",
    "    \n",
    "    documents = to_lowercase(documents)\n",
    "    \n",
    "    documents = remove_punctuation(documents)\n",
    "    \n",
    "    documents = replace_numbers(documents)\n",
    "    \n",
    "    documents = lemmatize_verbs(documents)\n",
    "    \n",
    "    return documents"
   ]
  },
  {
   "cell_type": "code",
   "execution_count": 25,
   "metadata": {},
   "outputs": [
    {
     "data": {
      "text/plain": [
       "\"I like this log, but think it would work better with clearer AM & PM sections. Each page is 12 hours so you really need two pages a day if your baby feeds or wets a lot in the early morning hours between midnight and 7am. We're cramming those in to the 2 blank spaces above 7am right now.\""
      ]
     },
     "execution_count": 25,
     "metadata": {},
     "output_type": "execute_result"
    }
   ],
   "source": [
    "documents[2]"
   ]
  },
  {
   "cell_type": "code",
   "execution_count": 26,
   "metadata": {},
   "outputs": [
    {
     "data": {
      "text/plain": [
       "\"i like this log, but think it would work better with clearer am & pm sections. each page is 12 hours so you really need two pages a day if your baby feeds or wets a lot in the early morning hours between midnight and 7am. we're cramming those in to the 2 blank spaces above 7am right now.\""
      ]
     },
     "execution_count": 26,
     "metadata": {},
     "output_type": "execute_result"
    }
   ],
   "source": [
    "lowercase_docs = to_lowercase(documents)\n",
    "\n",
    "lowercase_docs[2]"
   ]
  },
  {
   "cell_type": "code",
   "execution_count": 27,
   "metadata": {},
   "outputs": [
    {
     "data": {
      "text/plain": [
       "'i like this log but think it would work better with clearer am  pm sections each page is 12 hours so you really need two pages a day if your baby feeds or wets a lot in the early morning hours between midnight and 7am were cramming those in to the 2 blank spaces above 7am right now'"
      ]
     },
     "execution_count": 27,
     "metadata": {},
     "output_type": "execute_result"
    }
   ],
   "source": [
    "punc_removed_docs = remove_punctuation(lowercase_docs)\n",
    "\n",
    "punc_removed_docs[2]"
   ]
  },
  {
   "cell_type": "code",
   "execution_count": 28,
   "metadata": {},
   "outputs": [
    {
     "data": {
      "text/plain": [
       "'i like this log but think it would work better with clearer am pm sections each page is twelve hours so you really need two pages a day if your baby feeds or wets a lot in the early morning hours between midnight and 7am were cramming those in to the two blank spaces above 7am right now'"
      ]
     },
     "execution_count": 28,
     "metadata": {},
     "output_type": "execute_result"
    }
   ],
   "source": [
    "nums_replaced_docs = replace_numbers(punc_removed_docs)\n",
    "\n",
    "nums_replaced_docs[2]"
   ]
  },
  {
   "cell_type": "code",
   "execution_count": 29,
   "metadata": {},
   "outputs": [
    {
     "data": {
      "text/plain": [
       "['These pretzels be make me thirsty',\n",
       " 'Sometimes the road less travel be less travel for a reason. I love travel',\n",
       " 'It be not a lie if you believe it. She be in the habit of lie']"
      ]
     },
     "execution_count": 29,
     "metadata": {},
     "output_type": "execute_result"
    }
   ],
   "source": [
    "docs_to_lemmatize = ['These pretzels are making me thirsty', \n",
    "                     'Sometimes the road less traveled is less traveled for a reason. I love travelling', \n",
    "                     'It is not a lie if you believe it. She is in the habit of lying']\n",
    "    \n",
    "lemmatize_verbs(docs_to_lemmatize)"
   ]
  },
  {
   "cell_type": "code",
   "execution_count": 30,
   "metadata": {},
   "outputs": [
    {
     "data": {
      "text/plain": [
       "'i like this log but think it would work better with clearer am pm sections each page is twelve hours so you really need two pages a day if your baby feeds or wets a lot in the early morning hours between midnight and 7am were cramming those in to the two blank spaces above 7am right now'"
      ]
     },
     "execution_count": 30,
     "metadata": {},
     "output_type": "execute_result"
    }
   ],
   "source": [
    "lemmatized_docs = replace_numbers(nums_replaced_docs)\n",
    "\n",
    "lemmatized_docs[2]"
   ]
  },
  {
   "cell_type": "code",
   "execution_count": 31,
   "metadata": {},
   "outputs": [
    {
     "data": {
      "text/plain": [
       "'i like this log but think it would work better with clearer be pm section each page be twelve hours so you really need two page a day if your baby feed or wet a lot in the early morning hours between midnight and 7am be cram those in to the two blank space above 7am right now'"
      ]
     },
     "execution_count": 31,
     "metadata": {},
     "output_type": "execute_result"
    }
   ],
   "source": [
    "documents = normalization(documents)\n",
    "\n",
    "documents[2]"
   ]
  },
  {
   "cell_type": "markdown",
   "metadata": {},
   "source": [
    "## Vectorization\n",
    "#### i) CountVectorizer"
   ]
  },
  {
   "cell_type": "code",
   "execution_count": 32,
   "metadata": {},
   "outputs": [
    {
     "data": {
      "text/plain": [
       "CountVectorizer()"
      ]
     },
     "execution_count": 32,
     "metadata": {},
     "output_type": "execute_result"
    }
   ],
   "source": [
    "from sklearn.feature_extraction.text import CountVectorizer\n",
    "\n",
    "count_vectorizer = CountVectorizer()\n",
    "count_vectorizer.fit(documents)"
   ]
  },
  {
   "cell_type": "code",
   "execution_count": 33,
   "metadata": {},
   "outputs": [
    {
     "data": {
      "text/plain": [
       "{'this': 319,\n",
       " 'book': 39,\n",
       " 'be': 29,\n",
       " 'perfect': 246,\n",
       " 'im': 153,\n",
       " 'first': 109,\n",
       " 'time': 324,\n",
       " 'new': 213,\n",
       " 'mom': 198,\n",
       " 'and': 18,\n",
       " 'make': 189,\n",
       " 'it': 164,\n",
       " 'so': 294,\n",
       " 'easy': 89,\n",
       " 'to': 327,\n",
       " 'keep': 169,\n",
       " 'track': 330,\n",
       " 'of': 221,\n",
       " 'feed': 104,\n",
       " 'diaper': 76,\n",
       " 'change': 50,\n",
       " 'sleep': 291,\n",
       " 'definitely': 73,\n",
       " 'would': 361,\n",
       " 'recommend': 267,\n",
       " 'for': 111,\n",
       " 'moms': 200,\n",
       " 'plus': 252,\n",
       " 'its': 165,\n",
       " 'small': 292,\n",
       " 'enough': 94,\n",
       " 'that': 309,\n",
       " 'throw': 322,\n",
       " 'in': 156,\n",
       " 'the': 311,\n",
       " 'back': 27,\n",
       " 'doctor': 81,\n",
       " 'visit': 342,\n",
       " 'use': 338,\n",
       " 'our': 234,\n",
       " 'babysitter': 26,\n",
       " 'grandma': 127,\n",
       " 'can': 46,\n",
       " 'what': 352,\n",
       " 'go': 125,\n",
       " 'on': 225,\n",
       " 'during': 84,\n",
       " 'day': 71,\n",
       " 'weve': 351,\n",
       " 'record': 268,\n",
       " 'many': 190,\n",
       " 'milestones': 197,\n",
       " 'since': 288,\n",
       " 'we': 347,\n",
       " 'receive': 266,\n",
       " 'six': 289,\n",
       " 'month': 201,\n",
       " 'diary': 77,\n",
       " 'have': 135,\n",
       " 'room': 273,\n",
       " 'note': 218,\n",
       " 'wish': 358,\n",
       " 'hours': 144,\n",
       " 'start': 302,\n",
       " 'around': 21,\n",
       " 'until': 336,\n",
       " 'eight': 91,\n",
       " 'pm': 253,\n",
       " 'but': 43,\n",
       " 'just': 168,\n",
       " 'write': 362,\n",
       " 'over': 236,\n",
       " 'certain': 49,\n",
       " 'suit': 305,\n",
       " 'purpose': 260,\n",
       " 'nice': 214,\n",
       " 'thing': 315,\n",
       " 'if': 151,\n",
       " 'rough': 274,\n",
       " 'night': 215,\n",
       " 'super': 307,\n",
       " 'tire': 326,\n",
       " 'something': 296,\n",
       " 'refer': 269,\n",
       " 'forget': 112,\n",
       " 'when': 353,\n",
       " 'last': 172,\n",
       " 'baby': 25,\n",
       " 'or': 231,\n",
       " 'he': 136,\n",
       " 'wake': 343,\n",
       " 'up': 337,\n",
       " 'also': 16,\n",
       " 'like': 181,\n",
       " 'front': 118,\n",
       " 'page': 238,\n",
       " 'place': 249,\n",
       " 'emergency': 92,\n",
       " 'comment': 59,\n",
       " 'consent': 61,\n",
       " 'form': 113,\n",
       " 'case': 48,\n",
       " 'your': 366,\n",
       " 'child': 52,\n",
       " 'need': 212,\n",
       " 'medical': 194,\n",
       " 'care': 47,\n",
       " 'at': 24,\n",
       " 'immunizations': 154,\n",
       " 'ill': 152,\n",
       " 'get': 123,\n",
       " 'another': 19,\n",
       " 'one': 227,\n",
       " 'months': 202,\n",
       " 'finish': 108,\n",
       " 'log': 185,\n",
       " 'think': 317,\n",
       " 'work': 360,\n",
       " 'better': 34,\n",
       " 'with': 359,\n",
       " 'clearer': 55,\n",
       " 'section': 278,\n",
       " 'each': 85,\n",
       " 'twelve': 332,\n",
       " 'you': 364,\n",
       " 'really': 265,\n",
       " 'two': 333,\n",
       " 'wet': 350,\n",
       " 'lot': 187,\n",
       " 'early': 87,\n",
       " 'morning': 204,\n",
       " 'between': 35,\n",
       " 'midnight': 196,\n",
       " '7am': 5,\n",
       " 'cram': 67,\n",
       " 'those': 320,\n",
       " 'blank': 38,\n",
       " 'space': 299,\n",
       " 'above': 8,\n",
       " 'right': 272,\n",
       " 'now': 220,\n",
       " 'my': 208,\n",
       " 'wife': 357,\n",
       " 'old': 224,\n",
       " 'boy': 41,\n",
       " '4month': 2,\n",
       " 'mark': 191,\n",
       " 'decide': 72,\n",
       " 'she': 281,\n",
       " 'return': 271,\n",
       " 'instead': 161,\n",
       " 'stayathome': 303,\n",
       " 'hire': 141,\n",
       " 'an': 17,\n",
       " 'inhome': 159,\n",
       " 'nanny': 209,\n",
       " 'little': 183,\n",
       " 'arrangement': 22,\n",
       " 'quite': 262,\n",
       " 'well': 349,\n",
       " 'ever': 100,\n",
       " 'shortly': 285,\n",
       " 'after': 12,\n",
       " 'realize': 264,\n",
       " 'some': 295,\n",
       " 'sort': 298,\n",
       " 'journal': 166,\n",
       " 'boys': 42,\n",
       " 'activities': 10,\n",
       " 'while': 355,\n",
       " 'plain': 250,\n",
       " 'notebook': 219,\n",
       " 'period': 247,\n",
       " 'weeks': 348,\n",
       " 'stumble': 304,\n",
       " 'tracker': 331,\n",
       " 'daily': 69,\n",
       " 'childcare': 53,\n",
       " 'journallayout': 167,\n",
       " 'usethe': 340,\n",
       " 'excellent': 102,\n",
       " 'idea': 149,\n",
       " 'clearly': 56,\n",
       " 'divide': 79,\n",
       " 'into': 163,\n",
       " 'columns': 58,\n",
       " 'naptime': 211,\n",
       " 'playtime': 251,\n",
       " 'as': 23,\n",
       " 'general': 122,\n",
       " 'areas': 20,\n",
       " 'legibility': 178,\n",
       " 'huge': 147,\n",
       " 'improvement': 155,\n",
       " 'standard': 301,\n",
       " 'entries': 97,\n",
       " 'end': 93,\n",
       " 'become': 32,\n",
       " 'paragraph': 244,\n",
       " 'few': 105,\n",
       " 'short': 284,\n",
       " 'moments': 199,\n",
       " 'summarize': 306,\n",
       " 'all': 14,\n",
       " 'data': 70,\n",
       " 'total': 329,\n",
       " 'determine': 74,\n",
       " 'key': 170,\n",
       " 'information': 158,\n",
       " 'how': 145,\n",
       " 'much': 207,\n",
       " 'do': 80,\n",
       " 'eat': 90,\n",
       " 'bowel': 40,\n",
       " 'movement': 206,\n",
       " 'they': 313,\n",
       " 'etcthere': 99,\n",
       " 'however': 146,\n",
       " 'frustrate': 119,\n",
       " 'limitations': 182,\n",
       " 'entire': 95,\n",
       " 'layout': 174,\n",
       " 'about': 7,\n",
       " 'half': 130,\n",
       " 'sheet': 282,\n",
       " 'down': 83,\n",
       " 'middle': 195,\n",
       " 'portrait': 255,\n",
       " 'constrain': 63,\n",
       " 'very': 341,\n",
       " 'column': 57,\n",
       " 'row': 275,\n",
       " 'okay': 223,\n",
       " 'ounces': 233,\n",
       " 'by': 45,\n",
       " 'three': 321,\n",
       " 'hundred': 148,\n",
       " 'forty': 115,\n",
       " 'thirty': 318,\n",
       " 'four': 117,\n",
       " 'once': 226,\n",
       " 'more': 203,\n",
       " 'active': 9,\n",
       " 'youd': 365,\n",
       " 'know': 171,\n",
       " 'than': 308,\n",
       " '34tummy': 1,\n",
       " 'time34': 325,\n",
       " 'under': 334,\n",
       " 'things': 316,\n",
       " 'tight': 323,\n",
       " 'pageanother': 239,\n",
       " 'problem': 257,\n",
       " 'only': 229,\n",
       " 'cover': 66,\n",
       " 'out': 235,\n",
       " 'thats': 310,\n",
       " 'fine': 107,\n",
       " 'intention': 162,\n",
       " 'providers': 259,\n",
       " 'want': 344,\n",
       " 'which': 354,\n",
       " 'often': 222,\n",
       " 'earlier': 86,\n",
       " '6am': 3,\n",
       " 'require': 270,\n",
       " 'second': 277,\n",
       " 'pagewhat': 241,\n",
       " 'good': 126,\n",
       " 'read': 263,\n",
       " 'instantly': 160,\n",
       " 'gather': 121,\n",
       " 'matter': 192,\n",
       " 'high': 138,\n",
       " 'quality': 261,\n",
       " 'paper': 243,\n",
       " 'consistent': 62,\n",
       " 'pageswhat': 240,\n",
       " 'dont': 82,\n",
       " 'expensive': 103,\n",
       " 'most': 205,\n",
       " '6months': 4,\n",
       " 'less': 179,\n",
       " 'thick': 314,\n",
       " 'not': 217,\n",
       " 'hardback': 134,\n",
       " 'bend': 33,\n",
       " 'easily': 88,\n",
       " 'bag': 28,\n",
       " 'should': 286,\n",
       " 'bigger': 36,\n",
       " 'understand': 335,\n",
       " 'portability': 254,\n",
       " 'concern': 60,\n",
       " 'current': 68,\n",
       " 'size': 290,\n",
       " 'entirely': 96,\n",
       " 'too': 328,\n",
       " 'smallconclusioni': 293,\n",
       " 'own': 237,\n",
       " 'format': 114,\n",
       " 'spreadsheet': 300,\n",
       " 'include': 157,\n",
       " '24hour': 0,\n",
       " 'along': 15,\n",
       " 'other': 232,\n",
       " 'bind': 37,\n",
       " 'cheaply': 51,\n",
       " 'local': 184,\n",
       " 'shop': 283,\n",
       " 'adequate': 11,\n",
       " 'because': 31,\n",
       " 'son': 297,\n",
       " 'bear': 30,\n",
       " 'great': 129,\n",
       " 'handy': 132,\n",
       " 'way': 346,\n",
       " 'his': 142,\n",
       " 'discuss': 78,\n",
       " 'progress': 258,\n",
       " 'grandparents': 128,\n",
       " 'who': 356,\n",
       " 'watch': 345,\n",
       " 'him': 140,\n",
       " 'able': 6,\n",
       " 'maintain': 188,\n",
       " 'schedule': 276,\n",
       " 'me': 193,\n",
       " 'see': 279,\n",
       " 'highly': 139,\n",
       " 'parent': 245,\n",
       " 'children': 54,\n",
       " 'especially': 98,\n",
       " 'ones': 228,\n",
       " 'year': 363,\n",
       " 'age': 13,\n",
       " 'continue': 64,\n",
       " 'buy': 44,\n",
       " 'every': 101,\n",
       " 'least': 176,\n",
       " 'helpful': 137,\n",
       " 'nap': 210,\n",
       " 'developmental': 75,\n",
       " 'lay': 173,\n",
       " 'could': 65,\n",
       " 'leave': 177,\n",
       " 'open': 230,\n",
       " 'side': 287,\n",
       " 'set': 280,\n",
       " 'flip': 110,\n",
       " 'full': 120,\n",
       " 'nitpick': 216,\n",
       " 'let': 180,\n",
       " 'user': 339,\n",
       " 'fill': 106,\n",
       " 'then': 312,\n",
       " 'identical': 150,\n",
       " 'look': 186,\n",
       " 'glance': 124,\n",
       " 'hand': 131,\n",
       " 'hold': 143,\n",
       " 'pain': 242,\n",
       " 'lean': 175,\n",
       " 'forward': 116,\n",
       " 'pick': 248,\n",
       " 'happend': 133,\n",
       " 'prior': 256}"
      ]
     },
     "execution_count": 33,
     "metadata": {},
     "output_type": "execute_result"
    }
   ],
   "source": [
    "count_vectorizer.vocabulary_"
   ]
  },
  {
   "cell_type": "code",
   "execution_count": 34,
   "metadata": {},
   "outputs": [
    {
     "data": {
      "text/plain": [
       "367"
      ]
     },
     "execution_count": 34,
     "metadata": {},
     "output_type": "execute_result"
    }
   ],
   "source": [
    "len(count_vectorizer.vocabulary_)"
   ]
  },
  {
   "cell_type": "markdown",
   "metadata": {},
   "source": [
    "### Fit and transform of document"
   ]
  },
  {
   "cell_type": "code",
   "execution_count": 35,
   "metadata": {},
   "outputs": [
    {
     "data": {
      "text/plain": [
       "(6, 367)"
      ]
     },
     "execution_count": 35,
     "metadata": {},
     "output_type": "execute_result"
    }
   ],
   "source": [
    "doc_terms = count_vectorizer.fit_transform(documents)\n",
    "\n",
    "doc_terms.shape"
   ]
  },
  {
   "cell_type": "markdown",
   "metadata": {},
   "source": [
    "### Assign unique number to the word"
   ]
  },
  {
   "cell_type": "code",
   "execution_count": 36,
   "metadata": {},
   "outputs": [
    {
     "name": "stdout",
     "output_type": "stream",
     "text": [
      "(Doc, WordIndex.): NumOccurences\n",
      "  (0, 319)\t3\n",
      "  (0, 39)\t2\n",
      "  (0, 29)\t1\n",
      "  (0, 246)\t1\n",
      "  (0, 153)\t1\n",
      "  (0, 109)\t1\n",
      "  (0, 324)\t1\n",
      "  (0, 213)\t2\n",
      "  (0, 198)\t1\n",
      "  (0, 18)\t1\n",
      "  (0, 189)\t1\n",
      "  (0, 164)\t1\n",
      "  (0, 294)\t1\n",
      "  (0, 89)\t1\n",
      "  (0, 327)\t1\n",
      "  (0, 169)\t1\n",
      "  (0, 330)\t1\n",
      "  (0, 221)\t1\n",
      "  (0, 104)\t1\n",
      "  (0, 76)\t2\n",
      "  (0, 50)\t1\n",
      "  (0, 291)\t1\n",
      "  (0, 73)\t1\n",
      "  (0, 361)\t1\n",
      "  (0, 267)\t1\n",
      "  :\t:\n",
      "  (5, 75)\t1\n",
      "  (5, 173)\t1\n",
      "  (5, 65)\t2\n",
      "  (5, 177)\t3\n",
      "  (5, 230)\t1\n",
      "  (5, 287)\t1\n",
      "  (5, 280)\t1\n",
      "  (5, 110)\t2\n",
      "  (5, 120)\t3\n",
      "  (5, 216)\t1\n",
      "  (5, 180)\t1\n",
      "  (5, 339)\t1\n",
      "  (5, 106)\t1\n",
      "  (5, 312)\t1\n",
      "  (5, 150)\t1\n",
      "  (5, 186)\t1\n",
      "  (5, 124)\t1\n",
      "  (5, 131)\t1\n",
      "  (5, 143)\t1\n",
      "  (5, 242)\t1\n",
      "  (5, 175)\t1\n",
      "  (5, 116)\t1\n",
      "  (5, 248)\t1\n",
      "  (5, 133)\t1\n",
      "  (5, 256)\t1\n"
     ]
    }
   ],
   "source": [
    "print('(Doc, WordIndex.): NumOccurences')\n",
    "\n",
    "print(doc_terms)"
   ]
  },
  {
   "cell_type": "code",
   "execution_count": 64,
   "metadata": {},
   "outputs": [
    {
     "data": {
      "text/plain": [
       "38"
      ]
     },
     "execution_count": 64,
     "metadata": {},
     "output_type": "execute_result"
    }
   ],
   "source": [
    "doc_terms[0].size"
   ]
  },
  {
   "cell_type": "code",
   "execution_count": 63,
   "metadata": {
    "scrolled": false
   },
   "outputs": [
    {
     "name": "stdout",
     "output_type": "stream",
     "text": [
      "[[0 0 0 0 0 0 0 0 0 0 0 0 0 0 0 0 0 0 1 0 0 0 0 0 0 0 0 1 0 1 0 0 0 0 0 0\n",
      "  0 0 0 2 0 0 0 0 0 0 0 0 0 0 1 0 0 0 0 0 0 0 0 0 0 0 0 0 0 0 0 0 0 0 0 0\n",
      "  0 1 0 0 2 0 0 0 0 1 0 0 0 0 0 0 0 1 0 0 0 0 1 0 0 0 0 0 0 0 0 0 1 0 0 0\n",
      "  0 1 0 2 0 0 0 0 0 0 0 0 0 0 0 0 0 0 0 0 0 0 0 0 0 0 0 0 0 0 0 0 0 0 0 0\n",
      "  0 0 0 0 0 0 0 0 0 1 0 0 1 0 0 0 0 0 0 0 1 1 0 0 0 1 0 0 0 0 0 0 0 0 0 0\n",
      "  0 0 0 0 0 0 0 0 0 1 0 0 0 0 0 0 0 0 1 0 1 0 0 0 0 0 0 0 0 0 0 0 0 2 0 0\n",
      "  0 0 0 0 0 1 0 0 0 0 0 0 0 0 0 0 0 0 0 0 0 0 0 0 0 0 0 0 0 0 1 0 0 0 0 0\n",
      "  1 0 0 0 0 0 0 0 0 0 0 0 0 0 0 1 0 0 0 0 0 0 0 0 0 0 0 0 0 0 0 0 0 0 0 0\n",
      "  0 0 0 1 1 0 1 0 0 0 0 0 0 0 0 0 0 0 0 0 0 1 0 1 0 0 0 0 0 0 0 3 0 0 1 0\n",
      "  1 0 0 1 0 0 1 0 0 0 0 0 0 0 0 0 0 0 1 0 0 0 0 0 0 0 0 0 0 0 0 0 0 0 0 0\n",
      "  0 1 0 0 0 0 0]]\n"
     ]
    }
   ],
   "source": [
    "print(doc_terms[0].toarray())"
   ]
  },
  {
   "cell_type": "code",
   "execution_count": 65,
   "metadata": {},
   "outputs": [
    {
     "data": {
      "text/plain": [
       "367"
      ]
     },
     "execution_count": 65,
     "metadata": {},
     "output_type": "execute_result"
    }
   ],
   "source": [
    "doc_terms[0].toarray().size"
   ]
  },
  {
   "cell_type": "markdown",
   "metadata": {},
   "source": [
    "#### Find the words corresponding to the word index\n",
    "get_feature_names() returns the list of all the words which make up the vocabulary in the form of a list. The index of a word corresonds to the index in this list.\n",
    "\n",
    "The word with index 336 appears 3 times in document 0. What is the word?"
   ]
  },
  {
   "cell_type": "code",
   "execution_count": 38,
   "metadata": {},
   "outputs": [
    {
     "data": {
      "text/plain": [
       "'until'"
      ]
     },
     "execution_count": 38,
     "metadata": {},
     "output_type": "execute_result"
    }
   ],
   "source": [
    "count_vectorizer.get_feature_names()[336]"
   ]
  },
  {
   "cell_type": "markdown",
   "metadata": {},
   "source": [
    "### Stopwords\n",
    "A collection of stopwords for different languages is available here: <br />\n",
    "https://raw.githubusercontent.com/nltk/nltk_data/gh-pages/packages/corpora/stopwords.zip"
   ]
  },
  {
   "cell_type": "code",
   "execution_count": 39,
   "metadata": {},
   "outputs": [],
   "source": [
    "stop_words_df = pd.read_csv(\"datasets/stopwords/english\", \n",
    "                            engine='python', \n",
    "                            header=None,\n",
    "                            usecols=[0], \n",
    "                            names=['words'])"
   ]
  },
  {
   "cell_type": "code",
   "execution_count": 40,
   "metadata": {},
   "outputs": [
    {
     "data": {
      "text/html": [
       "<div>\n",
       "<style scoped>\n",
       "    .dataframe tbody tr th:only-of-type {\n",
       "        vertical-align: middle;\n",
       "    }\n",
       "\n",
       "    .dataframe tbody tr th {\n",
       "        vertical-align: top;\n",
       "    }\n",
       "\n",
       "    .dataframe thead th {\n",
       "        text-align: right;\n",
       "    }\n",
       "</style>\n",
       "<table border=\"1\" class=\"dataframe\">\n",
       "  <thead>\n",
       "    <tr style=\"text-align: right;\">\n",
       "      <th></th>\n",
       "      <th>words</th>\n",
       "    </tr>\n",
       "  </thead>\n",
       "  <tbody>\n",
       "    <tr>\n",
       "      <th>104</th>\n",
       "      <td>why</td>\n",
       "    </tr>\n",
       "    <tr>\n",
       "      <th>177</th>\n",
       "      <td>wouldn</td>\n",
       "    </tr>\n",
       "    <tr>\n",
       "      <th>173</th>\n",
       "      <td>weren</td>\n",
       "    </tr>\n",
       "    <tr>\n",
       "      <th>26</th>\n",
       "      <td>it</td>\n",
       "    </tr>\n",
       "    <tr>\n",
       "      <th>131</th>\n",
       "      <td>don</td>\n",
       "    </tr>\n",
       "    <tr>\n",
       "      <th>127</th>\n",
       "      <td>t</td>\n",
       "    </tr>\n",
       "    <tr>\n",
       "      <th>34</th>\n",
       "      <td>themselves</td>\n",
       "    </tr>\n",
       "    <tr>\n",
       "      <th>9</th>\n",
       "      <td>you're</td>\n",
       "    </tr>\n",
       "    <tr>\n",
       "      <th>101</th>\n",
       "      <td>there</td>\n",
       "    </tr>\n",
       "    <tr>\n",
       "      <th>21</th>\n",
       "      <td>she</td>\n",
       "    </tr>\n",
       "  </tbody>\n",
       "</table>\n",
       "</div>"
      ],
      "text/plain": [
       "          words\n",
       "104         why\n",
       "177      wouldn\n",
       "173       weren\n",
       "26           it\n",
       "131         don\n",
       "127           t\n",
       "34   themselves\n",
       "9        you're\n",
       "101       there\n",
       "21          she"
      ]
     },
     "execution_count": 40,
     "metadata": {},
     "output_type": "execute_result"
    }
   ],
   "source": [
    "stop_words_df.sample(10)"
   ]
  },
  {
   "cell_type": "code",
   "execution_count": 41,
   "metadata": {},
   "outputs": [],
   "source": [
    "stop_words = set(stop_words_df.words.unique())"
   ]
  },
  {
   "cell_type": "code",
   "execution_count": 42,
   "metadata": {},
   "outputs": [
    {
     "data": {
      "text/plain": [
       "CountVectorizer(stop_words={'a', 'about', 'above', 'after', 'again', 'against',\n",
       "                            'ain', 'all', 'am', 'an', 'and', 'any', 'are',\n",
       "                            'aren', \"aren't\", 'as', 'at', 'be', 'because',\n",
       "                            'been', 'before', 'being', 'below', 'between',\n",
       "                            'both', 'but', 'by', 'can', 'couldn', \"couldn't\", ...})"
      ]
     },
     "execution_count": 42,
     "metadata": {},
     "output_type": "execute_result"
    }
   ],
   "source": [
    "count_vectorizer = CountVectorizer(stop_words=stop_words)\n",
    "\n",
    "count_vectorizer.fit(documents)"
   ]
  },
  {
   "cell_type": "code",
   "execution_count": 43,
   "metadata": {},
   "outputs": [
    {
     "data": {
      "text/plain": [
       "{'book': 28,\n",
       " 'perfect': 199,\n",
       " 'im': 127,\n",
       " 'first': 90,\n",
       " 'time': 266,\n",
       " 'new': 178,\n",
       " 'mom': 166,\n",
       " 'make': 158,\n",
       " 'easy': 71,\n",
       " 'keep': 138,\n",
       " 'track': 270,\n",
       " 'feed': 86,\n",
       " 'diaper': 62,\n",
       " 'change': 36,\n",
       " 'sleep': 242,\n",
       " 'definitely': 59,\n",
       " 'would': 290,\n",
       " 'recommend': 220,\n",
       " 'moms': 168,\n",
       " 'plus': 205,\n",
       " 'small': 243,\n",
       " 'enough': 76,\n",
       " 'throw': 264,\n",
       " 'back': 19,\n",
       " 'doctor': 66,\n",
       " 'visit': 278,\n",
       " 'use': 275,\n",
       " 'babysitter': 18,\n",
       " 'grandma': 107,\n",
       " 'go': 105,\n",
       " 'day': 57,\n",
       " 'weve': 286,\n",
       " 'record': 221,\n",
       " 'many': 159,\n",
       " 'milestones': 165,\n",
       " 'since': 239,\n",
       " 'receive': 219,\n",
       " 'six': 240,\n",
       " 'month': 169,\n",
       " 'diary': 63,\n",
       " 'room': 226,\n",
       " 'note': 182,\n",
       " 'wish': 288,\n",
       " 'hours': 120,\n",
       " 'start': 251,\n",
       " 'around': 15,\n",
       " 'eight': 73,\n",
       " 'pm': 206,\n",
       " 'write': 291,\n",
       " 'certain': 35,\n",
       " 'suit': 254,\n",
       " 'purpose': 213,\n",
       " 'nice': 179,\n",
       " 'thing': 259,\n",
       " 'rough': 227,\n",
       " 'night': 180,\n",
       " 'super': 256,\n",
       " 'tire': 268,\n",
       " 'something': 245,\n",
       " 'refer': 222,\n",
       " 'forget': 92,\n",
       " 'last': 141,\n",
       " 'baby': 17,\n",
       " 'wake': 279,\n",
       " 'also': 12,\n",
       " 'like': 150,\n",
       " 'front': 98,\n",
       " 'page': 191,\n",
       " 'place': 202,\n",
       " 'emergency': 74,\n",
       " 'comment': 45,\n",
       " 'consent': 47,\n",
       " 'form': 93,\n",
       " 'case': 34,\n",
       " 'child': 38,\n",
       " 'need': 177,\n",
       " 'medical': 162,\n",
       " 'care': 33,\n",
       " 'immunizations': 128,\n",
       " 'ill': 126,\n",
       " 'get': 103,\n",
       " 'another': 13,\n",
       " 'one': 187,\n",
       " 'months': 170,\n",
       " 'finish': 89,\n",
       " 'log': 154,\n",
       " 'think': 261,\n",
       " 'work': 289,\n",
       " 'better': 24,\n",
       " 'clearer': 41,\n",
       " 'section': 231,\n",
       " 'twelve': 272,\n",
       " 'really': 218,\n",
       " 'two': 273,\n",
       " 'wet': 285,\n",
       " 'lot': 156,\n",
       " 'early': 69,\n",
       " 'morning': 171,\n",
       " 'midnight': 164,\n",
       " '7am': 5,\n",
       " 'cram': 53,\n",
       " 'blank': 27,\n",
       " 'space': 248,\n",
       " 'right': 225,\n",
       " 'wife': 287,\n",
       " 'old': 186,\n",
       " 'boy': 30,\n",
       " '4month': 2,\n",
       " 'mark': 160,\n",
       " 'decide': 58,\n",
       " 'return': 224,\n",
       " 'instead': 134,\n",
       " 'stayathome': 252,\n",
       " 'hire': 118,\n",
       " 'inhome': 132,\n",
       " 'nanny': 174,\n",
       " 'little': 152,\n",
       " 'arrangement': 16,\n",
       " 'quite': 215,\n",
       " 'well': 284,\n",
       " 'ever': 82,\n",
       " 'shortly': 237,\n",
       " 'realize': 217,\n",
       " 'sort': 247,\n",
       " 'journal': 136,\n",
       " 'boys': 31,\n",
       " 'activities': 8,\n",
       " 'plain': 203,\n",
       " 'notebook': 183,\n",
       " 'period': 200,\n",
       " 'weeks': 283,\n",
       " 'stumble': 253,\n",
       " 'tracker': 271,\n",
       " 'daily': 55,\n",
       " 'childcare': 39,\n",
       " 'journallayout': 137,\n",
       " 'usethe': 277,\n",
       " 'excellent': 84,\n",
       " 'idea': 124,\n",
       " 'clearly': 42,\n",
       " 'divide': 65,\n",
       " 'columns': 44,\n",
       " 'naptime': 176,\n",
       " 'playtime': 204,\n",
       " 'general': 102,\n",
       " 'areas': 14,\n",
       " 'legibility': 147,\n",
       " 'huge': 122,\n",
       " 'improvement': 129,\n",
       " 'standard': 250,\n",
       " 'entries': 79,\n",
       " 'end': 75,\n",
       " 'become': 22,\n",
       " 'paragraph': 197,\n",
       " 'short': 236,\n",
       " 'moments': 167,\n",
       " 'summarize': 255,\n",
       " 'data': 56,\n",
       " 'total': 269,\n",
       " 'determine': 60,\n",
       " 'key': 139,\n",
       " 'information': 131,\n",
       " 'much': 173,\n",
       " 'eat': 72,\n",
       " 'bowel': 29,\n",
       " 'movement': 172,\n",
       " 'etcthere': 81,\n",
       " 'however': 121,\n",
       " 'frustrate': 99,\n",
       " 'limitations': 151,\n",
       " 'entire': 77,\n",
       " 'layout': 143,\n",
       " 'half': 110,\n",
       " 'sheet': 234,\n",
       " 'middle': 163,\n",
       " 'portrait': 208,\n",
       " 'constrain': 49,\n",
       " 'column': 43,\n",
       " 'row': 228,\n",
       " 'okay': 185,\n",
       " 'ounces': 190,\n",
       " 'three': 263,\n",
       " 'hundred': 123,\n",
       " 'forty': 95,\n",
       " 'thirty': 262,\n",
       " 'four': 97,\n",
       " 'active': 7,\n",
       " 'youd': 293,\n",
       " 'know': 140,\n",
       " '34tummy': 1,\n",
       " 'time34': 267,\n",
       " 'things': 260,\n",
       " 'tight': 265,\n",
       " 'pageanother': 192,\n",
       " 'problem': 210,\n",
       " 'cover': 52,\n",
       " 'thats': 257,\n",
       " 'fine': 88,\n",
       " 'intention': 135,\n",
       " 'providers': 212,\n",
       " 'want': 280,\n",
       " 'often': 184,\n",
       " 'earlier': 68,\n",
       " '6am': 3,\n",
       " 'require': 223,\n",
       " 'second': 230,\n",
       " 'pagewhat': 194,\n",
       " 'good': 106,\n",
       " 'read': 216,\n",
       " 'instantly': 133,\n",
       " 'gather': 101,\n",
       " 'matter': 161,\n",
       " 'high': 116,\n",
       " 'quality': 214,\n",
       " 'paper': 196,\n",
       " 'consistent': 48,\n",
       " 'pageswhat': 193,\n",
       " 'dont': 67,\n",
       " 'expensive': 85,\n",
       " '6months': 4,\n",
       " 'less': 148,\n",
       " 'thick': 258,\n",
       " 'hardback': 114,\n",
       " 'bend': 23,\n",
       " 'easily': 70,\n",
       " 'bag': 20,\n",
       " 'bigger': 25,\n",
       " 'understand': 274,\n",
       " 'portability': 207,\n",
       " 'concern': 46,\n",
       " 'current': 54,\n",
       " 'size': 241,\n",
       " 'entirely': 78,\n",
       " 'smallconclusioni': 244,\n",
       " 'format': 94,\n",
       " 'spreadsheet': 249,\n",
       " 'include': 130,\n",
       " '24hour': 0,\n",
       " 'along': 11,\n",
       " 'bind': 26,\n",
       " 'cheaply': 37,\n",
       " 'local': 153,\n",
       " 'shop': 235,\n",
       " 'adequate': 9,\n",
       " 'son': 246,\n",
       " 'bear': 21,\n",
       " 'great': 109,\n",
       " 'handy': 112,\n",
       " 'way': 282,\n",
       " 'discuss': 64,\n",
       " 'progress': 211,\n",
       " 'grandparents': 108,\n",
       " 'watch': 281,\n",
       " 'able': 6,\n",
       " 'maintain': 157,\n",
       " 'schedule': 229,\n",
       " 'see': 232,\n",
       " 'highly': 117,\n",
       " 'parent': 198,\n",
       " 'children': 40,\n",
       " 'especially': 80,\n",
       " 'ones': 188,\n",
       " 'year': 292,\n",
       " 'age': 10,\n",
       " 'continue': 50,\n",
       " 'buy': 32,\n",
       " 'every': 83,\n",
       " 'least': 145,\n",
       " 'helpful': 115,\n",
       " 'nap': 175,\n",
       " 'developmental': 61,\n",
       " 'lay': 142,\n",
       " 'could': 51,\n",
       " 'leave': 146,\n",
       " 'open': 189,\n",
       " 'side': 238,\n",
       " 'set': 233,\n",
       " 'flip': 91,\n",
       " 'full': 100,\n",
       " 'nitpick': 181,\n",
       " 'let': 149,\n",
       " 'user': 276,\n",
       " 'fill': 87,\n",
       " 'identical': 125,\n",
       " 'look': 155,\n",
       " 'glance': 104,\n",
       " 'hand': 111,\n",
       " 'hold': 119,\n",
       " 'pain': 195,\n",
       " 'lean': 144,\n",
       " 'forward': 96,\n",
       " 'pick': 201,\n",
       " 'happend': 113,\n",
       " 'prior': 209}"
      ]
     },
     "execution_count": 43,
     "metadata": {},
     "output_type": "execute_result"
    }
   ],
   "source": [
    "count_vectorizer.vocabulary_"
   ]
  },
  {
   "cell_type": "code",
   "execution_count": 44,
   "metadata": {},
   "outputs": [
    {
     "data": {
      "text/plain": [
       "294"
      ]
     },
     "execution_count": 44,
     "metadata": {},
     "output_type": "execute_result"
    }
   ],
   "source": [
    "len(count_vectorizer.vocabulary_)"
   ]
  },
  {
   "cell_type": "markdown",
   "metadata": {},
   "source": [
    "### __ii TfidfVectorizer__"
   ]
  },
  {
   "cell_type": "code",
   "execution_count": 45,
   "metadata": {},
   "outputs": [],
   "source": [
    "from sklearn.feature_extraction.text import TfidfVectorizer"
   ]
  },
  {
   "cell_type": "code",
   "execution_count": 46,
   "metadata": {},
   "outputs": [
    {
     "data": {
      "text/plain": [
       "TfidfVectorizer(stop_words={'a', 'about', 'above', 'after', 'again', 'against',\n",
       "                            'ain', 'all', 'am', 'an', 'and', 'any', 'are',\n",
       "                            'aren', \"aren't\", 'as', 'at', 'be', 'because',\n",
       "                            'been', 'before', 'being', 'below', 'between',\n",
       "                            'both', 'but', 'by', 'can', 'couldn', \"couldn't\", ...})"
      ]
     },
     "execution_count": 46,
     "metadata": {},
     "output_type": "execute_result"
    }
   ],
   "source": [
    "tfidf_vectorizer = TfidfVectorizer(stop_words=stop_words)\n",
    "\n",
    "tfidf_vectorizer.fit(documents)"
   ]
  },
  {
   "cell_type": "code",
   "execution_count": 47,
   "metadata": {},
   "outputs": [
    {
     "data": {
      "text/plain": [
       "{'book': 28,\n",
       " 'perfect': 199,\n",
       " 'im': 127,\n",
       " 'first': 90,\n",
       " 'time': 266,\n",
       " 'new': 178,\n",
       " 'mom': 166,\n",
       " 'make': 158,\n",
       " 'easy': 71,\n",
       " 'keep': 138,\n",
       " 'track': 270,\n",
       " 'feed': 86,\n",
       " 'diaper': 62,\n",
       " 'change': 36,\n",
       " 'sleep': 242,\n",
       " 'definitely': 59,\n",
       " 'would': 290,\n",
       " 'recommend': 220,\n",
       " 'moms': 168,\n",
       " 'plus': 205,\n",
       " 'small': 243,\n",
       " 'enough': 76,\n",
       " 'throw': 264,\n",
       " 'back': 19,\n",
       " 'doctor': 66,\n",
       " 'visit': 278,\n",
       " 'use': 275,\n",
       " 'babysitter': 18,\n",
       " 'grandma': 107,\n",
       " 'go': 105,\n",
       " 'day': 57,\n",
       " 'weve': 286,\n",
       " 'record': 221,\n",
       " 'many': 159,\n",
       " 'milestones': 165,\n",
       " 'since': 239,\n",
       " 'receive': 219,\n",
       " 'six': 240,\n",
       " 'month': 169,\n",
       " 'diary': 63,\n",
       " 'room': 226,\n",
       " 'note': 182,\n",
       " 'wish': 288,\n",
       " 'hours': 120,\n",
       " 'start': 251,\n",
       " 'around': 15,\n",
       " 'eight': 73,\n",
       " 'pm': 206,\n",
       " 'write': 291,\n",
       " 'certain': 35,\n",
       " 'suit': 254,\n",
       " 'purpose': 213,\n",
       " 'nice': 179,\n",
       " 'thing': 259,\n",
       " 'rough': 227,\n",
       " 'night': 180,\n",
       " 'super': 256,\n",
       " 'tire': 268,\n",
       " 'something': 245,\n",
       " 'refer': 222,\n",
       " 'forget': 92,\n",
       " 'last': 141,\n",
       " 'baby': 17,\n",
       " 'wake': 279,\n",
       " 'also': 12,\n",
       " 'like': 150,\n",
       " 'front': 98,\n",
       " 'page': 191,\n",
       " 'place': 202,\n",
       " 'emergency': 74,\n",
       " 'comment': 45,\n",
       " 'consent': 47,\n",
       " 'form': 93,\n",
       " 'case': 34,\n",
       " 'child': 38,\n",
       " 'need': 177,\n",
       " 'medical': 162,\n",
       " 'care': 33,\n",
       " 'immunizations': 128,\n",
       " 'ill': 126,\n",
       " 'get': 103,\n",
       " 'another': 13,\n",
       " 'one': 187,\n",
       " 'months': 170,\n",
       " 'finish': 89,\n",
       " 'log': 154,\n",
       " 'think': 261,\n",
       " 'work': 289,\n",
       " 'better': 24,\n",
       " 'clearer': 41,\n",
       " 'section': 231,\n",
       " 'twelve': 272,\n",
       " 'really': 218,\n",
       " 'two': 273,\n",
       " 'wet': 285,\n",
       " 'lot': 156,\n",
       " 'early': 69,\n",
       " 'morning': 171,\n",
       " 'midnight': 164,\n",
       " '7am': 5,\n",
       " 'cram': 53,\n",
       " 'blank': 27,\n",
       " 'space': 248,\n",
       " 'right': 225,\n",
       " 'wife': 287,\n",
       " 'old': 186,\n",
       " 'boy': 30,\n",
       " '4month': 2,\n",
       " 'mark': 160,\n",
       " 'decide': 58,\n",
       " 'return': 224,\n",
       " 'instead': 134,\n",
       " 'stayathome': 252,\n",
       " 'hire': 118,\n",
       " 'inhome': 132,\n",
       " 'nanny': 174,\n",
       " 'little': 152,\n",
       " 'arrangement': 16,\n",
       " 'quite': 215,\n",
       " 'well': 284,\n",
       " 'ever': 82,\n",
       " 'shortly': 237,\n",
       " 'realize': 217,\n",
       " 'sort': 247,\n",
       " 'journal': 136,\n",
       " 'boys': 31,\n",
       " 'activities': 8,\n",
       " 'plain': 203,\n",
       " 'notebook': 183,\n",
       " 'period': 200,\n",
       " 'weeks': 283,\n",
       " 'stumble': 253,\n",
       " 'tracker': 271,\n",
       " 'daily': 55,\n",
       " 'childcare': 39,\n",
       " 'journallayout': 137,\n",
       " 'usethe': 277,\n",
       " 'excellent': 84,\n",
       " 'idea': 124,\n",
       " 'clearly': 42,\n",
       " 'divide': 65,\n",
       " 'columns': 44,\n",
       " 'naptime': 176,\n",
       " 'playtime': 204,\n",
       " 'general': 102,\n",
       " 'areas': 14,\n",
       " 'legibility': 147,\n",
       " 'huge': 122,\n",
       " 'improvement': 129,\n",
       " 'standard': 250,\n",
       " 'entries': 79,\n",
       " 'end': 75,\n",
       " 'become': 22,\n",
       " 'paragraph': 197,\n",
       " 'short': 236,\n",
       " 'moments': 167,\n",
       " 'summarize': 255,\n",
       " 'data': 56,\n",
       " 'total': 269,\n",
       " 'determine': 60,\n",
       " 'key': 139,\n",
       " 'information': 131,\n",
       " 'much': 173,\n",
       " 'eat': 72,\n",
       " 'bowel': 29,\n",
       " 'movement': 172,\n",
       " 'etcthere': 81,\n",
       " 'however': 121,\n",
       " 'frustrate': 99,\n",
       " 'limitations': 151,\n",
       " 'entire': 77,\n",
       " 'layout': 143,\n",
       " 'half': 110,\n",
       " 'sheet': 234,\n",
       " 'middle': 163,\n",
       " 'portrait': 208,\n",
       " 'constrain': 49,\n",
       " 'column': 43,\n",
       " 'row': 228,\n",
       " 'okay': 185,\n",
       " 'ounces': 190,\n",
       " 'three': 263,\n",
       " 'hundred': 123,\n",
       " 'forty': 95,\n",
       " 'thirty': 262,\n",
       " 'four': 97,\n",
       " 'active': 7,\n",
       " 'youd': 293,\n",
       " 'know': 140,\n",
       " '34tummy': 1,\n",
       " 'time34': 267,\n",
       " 'things': 260,\n",
       " 'tight': 265,\n",
       " 'pageanother': 192,\n",
       " 'problem': 210,\n",
       " 'cover': 52,\n",
       " 'thats': 257,\n",
       " 'fine': 88,\n",
       " 'intention': 135,\n",
       " 'providers': 212,\n",
       " 'want': 280,\n",
       " 'often': 184,\n",
       " 'earlier': 68,\n",
       " '6am': 3,\n",
       " 'require': 223,\n",
       " 'second': 230,\n",
       " 'pagewhat': 194,\n",
       " 'good': 106,\n",
       " 'read': 216,\n",
       " 'instantly': 133,\n",
       " 'gather': 101,\n",
       " 'matter': 161,\n",
       " 'high': 116,\n",
       " 'quality': 214,\n",
       " 'paper': 196,\n",
       " 'consistent': 48,\n",
       " 'pageswhat': 193,\n",
       " 'dont': 67,\n",
       " 'expensive': 85,\n",
       " '6months': 4,\n",
       " 'less': 148,\n",
       " 'thick': 258,\n",
       " 'hardback': 114,\n",
       " 'bend': 23,\n",
       " 'easily': 70,\n",
       " 'bag': 20,\n",
       " 'bigger': 25,\n",
       " 'understand': 274,\n",
       " 'portability': 207,\n",
       " 'concern': 46,\n",
       " 'current': 54,\n",
       " 'size': 241,\n",
       " 'entirely': 78,\n",
       " 'smallconclusioni': 244,\n",
       " 'format': 94,\n",
       " 'spreadsheet': 249,\n",
       " 'include': 130,\n",
       " '24hour': 0,\n",
       " 'along': 11,\n",
       " 'bind': 26,\n",
       " 'cheaply': 37,\n",
       " 'local': 153,\n",
       " 'shop': 235,\n",
       " 'adequate': 9,\n",
       " 'son': 246,\n",
       " 'bear': 21,\n",
       " 'great': 109,\n",
       " 'handy': 112,\n",
       " 'way': 282,\n",
       " 'discuss': 64,\n",
       " 'progress': 211,\n",
       " 'grandparents': 108,\n",
       " 'watch': 281,\n",
       " 'able': 6,\n",
       " 'maintain': 157,\n",
       " 'schedule': 229,\n",
       " 'see': 232,\n",
       " 'highly': 117,\n",
       " 'parent': 198,\n",
       " 'children': 40,\n",
       " 'especially': 80,\n",
       " 'ones': 188,\n",
       " 'year': 292,\n",
       " 'age': 10,\n",
       " 'continue': 50,\n",
       " 'buy': 32,\n",
       " 'every': 83,\n",
       " 'least': 145,\n",
       " 'helpful': 115,\n",
       " 'nap': 175,\n",
       " 'developmental': 61,\n",
       " 'lay': 142,\n",
       " 'could': 51,\n",
       " 'leave': 146,\n",
       " 'open': 189,\n",
       " 'side': 238,\n",
       " 'set': 233,\n",
       " 'flip': 91,\n",
       " 'full': 100,\n",
       " 'nitpick': 181,\n",
       " 'let': 149,\n",
       " 'user': 276,\n",
       " 'fill': 87,\n",
       " 'identical': 125,\n",
       " 'look': 155,\n",
       " 'glance': 104,\n",
       " 'hand': 111,\n",
       " 'hold': 119,\n",
       " 'pain': 195,\n",
       " 'lean': 144,\n",
       " 'forward': 96,\n",
       " 'pick': 201,\n",
       " 'happend': 113,\n",
       " 'prior': 209}"
      ]
     },
     "execution_count": 47,
     "metadata": {},
     "output_type": "execute_result"
    }
   ],
   "source": [
    "tfidf_vectorizer.vocabulary_"
   ]
  },
  {
   "cell_type": "markdown",
   "metadata": {},
   "source": [
    "### See IDF Score"
   ]
  },
  {
   "cell_type": "code",
   "execution_count": 48,
   "metadata": {},
   "outputs": [
    {
     "data": {
      "text/html": [
       "<div>\n",
       "<style scoped>\n",
       "    .dataframe tbody tr th:only-of-type {\n",
       "        vertical-align: middle;\n",
       "    }\n",
       "\n",
       "    .dataframe tbody tr th {\n",
       "        vertical-align: top;\n",
       "    }\n",
       "\n",
       "    .dataframe thead th {\n",
       "        text-align: right;\n",
       "    }\n",
       "</style>\n",
       "<table border=\"1\" class=\"dataframe\">\n",
       "  <thead>\n",
       "    <tr style=\"text-align: right;\">\n",
       "      <th></th>\n",
       "      <th>IDF Score</th>\n",
       "    </tr>\n",
       "  </thead>\n",
       "  <tbody>\n",
       "    <tr>\n",
       "      <th>track</th>\n",
       "      <td>1.154151</td>\n",
       "    </tr>\n",
       "    <tr>\n",
       "      <th>feed</th>\n",
       "      <td>1.154151</td>\n",
       "    </tr>\n",
       "    <tr>\n",
       "      <th>change</th>\n",
       "      <td>1.336472</td>\n",
       "    </tr>\n",
       "    <tr>\n",
       "      <th>page</th>\n",
       "      <td>1.336472</td>\n",
       "    </tr>\n",
       "    <tr>\n",
       "      <th>would</th>\n",
       "      <td>1.336472</td>\n",
       "    </tr>\n",
       "    <tr>\n",
       "      <th>diaper</th>\n",
       "      <td>1.336472</td>\n",
       "    </tr>\n",
       "    <tr>\n",
       "      <th>day</th>\n",
       "      <td>1.336472</td>\n",
       "    </tr>\n",
       "    <tr>\n",
       "      <th>baby</th>\n",
       "      <td>1.336472</td>\n",
       "    </tr>\n",
       "    <tr>\n",
       "      <th>really</th>\n",
       "      <td>1.559616</td>\n",
       "    </tr>\n",
       "    <tr>\n",
       "      <th>book</th>\n",
       "      <td>1.559616</td>\n",
       "    </tr>\n",
       "  </tbody>\n",
       "</table>\n",
       "</div>"
      ],
      "text/plain": [
       "        IDF Score\n",
       "track    1.154151\n",
       "feed     1.154151\n",
       "change   1.336472\n",
       "page     1.336472\n",
       "would    1.336472\n",
       "diaper   1.336472\n",
       "day      1.336472\n",
       "baby     1.336472\n",
       "really   1.559616\n",
       "book     1.559616"
      ]
     },
     "execution_count": 48,
     "metadata": {},
     "output_type": "execute_result"
    }
   ],
   "source": [
    "df = pd.DataFrame(tfidf_vectorizer.idf_, \n",
    "                  index=tfidf_vectorizer.get_feature_names(),\n",
    "                  columns=['IDF Score'])\n",
    "\n",
    "df.sort_values(by=['IDF Score']).head(10)"
   ]
  },
  {
   "cell_type": "code",
   "execution_count": 49,
   "metadata": {},
   "outputs": [
    {
     "data": {
      "text/html": [
       "<div>\n",
       "<style scoped>\n",
       "    .dataframe tbody tr th:only-of-type {\n",
       "        vertical-align: middle;\n",
       "    }\n",
       "\n",
       "    .dataframe tbody tr th {\n",
       "        vertical-align: top;\n",
       "    }\n",
       "\n",
       "    .dataframe thead th {\n",
       "        text-align: right;\n",
       "    }\n",
       "</style>\n",
       "<table border=\"1\" class=\"dataframe\">\n",
       "  <thead>\n",
       "    <tr style=\"text-align: right;\">\n",
       "      <th></th>\n",
       "      <th>IDF Score</th>\n",
       "    </tr>\n",
       "  </thead>\n",
       "  <tbody>\n",
       "    <tr>\n",
       "      <th>grandparents</th>\n",
       "      <td>2.252763</td>\n",
       "    </tr>\n",
       "    <tr>\n",
       "      <th>great</th>\n",
       "      <td>2.252763</td>\n",
       "    </tr>\n",
       "    <tr>\n",
       "      <th>half</th>\n",
       "      <td>2.252763</td>\n",
       "    </tr>\n",
       "    <tr>\n",
       "      <th>hand</th>\n",
       "      <td>2.252763</td>\n",
       "    </tr>\n",
       "    <tr>\n",
       "      <th>handy</th>\n",
       "      <td>2.252763</td>\n",
       "    </tr>\n",
       "    <tr>\n",
       "      <th>happend</th>\n",
       "      <td>2.252763</td>\n",
       "    </tr>\n",
       "    <tr>\n",
       "      <th>hardback</th>\n",
       "      <td>2.252763</td>\n",
       "    </tr>\n",
       "    <tr>\n",
       "      <th>helpful</th>\n",
       "      <td>2.252763</td>\n",
       "    </tr>\n",
       "    <tr>\n",
       "      <th>frustrate</th>\n",
       "      <td>2.252763</td>\n",
       "    </tr>\n",
       "    <tr>\n",
       "      <th>youd</th>\n",
       "      <td>2.252763</td>\n",
       "    </tr>\n",
       "  </tbody>\n",
       "</table>\n",
       "</div>"
      ],
      "text/plain": [
       "              IDF Score\n",
       "grandparents   2.252763\n",
       "great          2.252763\n",
       "half           2.252763\n",
       "hand           2.252763\n",
       "handy          2.252763\n",
       "happend        2.252763\n",
       "hardback       2.252763\n",
       "helpful        2.252763\n",
       "frustrate      2.252763\n",
       "youd           2.252763"
      ]
     },
     "execution_count": 49,
     "metadata": {},
     "output_type": "execute_result"
    }
   ],
   "source": [
    "df.sort_values(by=['IDF Score']).tail(10)"
   ]
  },
  {
   "cell_type": "markdown",
   "metadata": {},
   "source": [
    "#### Vectors for each document\n",
    "The sparse matrix contains a row for each document and contains the tf-idf scores for each word in the vocabulary"
   ]
  },
  {
   "cell_type": "code",
   "execution_count": 50,
   "metadata": {},
   "outputs": [
    {
     "data": {
      "text/plain": [
       "<6x294 sparse matrix of type '<class 'numpy.float64'>'\n",
       "\twith 388 stored elements in Compressed Sparse Row format>"
      ]
     },
     "execution_count": 50,
     "metadata": {},
     "output_type": "execute_result"
    }
   ],
   "source": [
    "tfidf_vectors = tfidf_vectorizer.fit_transform(documents)\n",
    "\n",
    "tfidf_vectors"
   ]
  },
  {
   "cell_type": "markdown",
   "metadata": {},
   "source": [
    "#### The vector for the first document"
   ]
  },
  {
   "cell_type": "code",
   "execution_count": 51,
   "metadata": {},
   "outputs": [
    {
     "data": {
      "text/plain": [
       "matrix([[0.        , 0.        , 0.        , 0.        , 0.        ,\n",
       "         0.        , 0.        , 0.        , 0.        , 0.        ,\n",
       "         0.        , 0.        , 0.        , 0.        , 0.        ,\n",
       "         0.        , 0.        , 0.        , 0.        , 0.17278637,\n",
       "         0.        , 0.        , 0.        , 0.        , 0.        ,\n",
       "         0.        , 0.        , 0.        , 0.29175625, 0.        ,\n",
       "         0.        , 0.        , 0.        , 0.        , 0.        ,\n",
       "         0.        , 0.12500647, 0.        , 0.        , 0.        ,\n",
       "         0.        , 0.        , 0.        , 0.        , 0.        ,\n",
       "         0.        , 0.        , 0.        , 0.        , 0.        ,\n",
       "         0.        , 0.        , 0.        , 0.        , 0.        ,\n",
       "         0.        , 0.        , 0.        , 0.        , 0.14587813,\n",
       "         0.        , 0.        , 0.25001294, 0.        , 0.        ,\n",
       "         0.        , 0.17278637, 0.        , 0.        , 0.        ,\n",
       "         0.        , 0.14587813, 0.        , 0.        , 0.        ,\n",
       "         0.        , 0.21071141, 0.        , 0.        , 0.        ,\n",
       "         0.        , 0.        , 0.        , 0.        , 0.        ,\n",
       "         0.        , 0.10795309, 0.        , 0.        , 0.        ,\n",
       "         0.17278637, 0.        , 0.        , 0.        , 0.        ,\n",
       "         0.        , 0.        , 0.        , 0.        , 0.        ,\n",
       "         0.        , 0.        , 0.        , 0.        , 0.        ,\n",
       "         0.        , 0.        , 0.        , 0.        , 0.        ,\n",
       "         0.        , 0.        , 0.        , 0.        , 0.        ,\n",
       "         0.        , 0.        , 0.        , 0.        , 0.        ,\n",
       "         0.        , 0.        , 0.        , 0.        , 0.        ,\n",
       "         0.        , 0.        , 0.17278637, 0.        , 0.        ,\n",
       "         0.        , 0.        , 0.        , 0.        , 0.        ,\n",
       "         0.        , 0.        , 0.        , 0.14587813, 0.        ,\n",
       "         0.        , 0.        , 0.        , 0.        , 0.        ,\n",
       "         0.        , 0.        , 0.        , 0.        , 0.        ,\n",
       "         0.        , 0.        , 0.        , 0.        , 0.        ,\n",
       "         0.        , 0.        , 0.        , 0.14587813, 0.        ,\n",
       "         0.        , 0.        , 0.        , 0.        , 0.        ,\n",
       "         0.        , 0.17278637, 0.        , 0.21071141, 0.        ,\n",
       "         0.        , 0.        , 0.        , 0.        , 0.        ,\n",
       "         0.        , 0.        , 0.        , 0.42142282, 0.        ,\n",
       "         0.        , 0.        , 0.        , 0.        , 0.        ,\n",
       "         0.        , 0.        , 0.        , 0.        , 0.        ,\n",
       "         0.        , 0.        , 0.        , 0.        , 0.        ,\n",
       "         0.        , 0.        , 0.        , 0.        , 0.21071141,\n",
       "         0.        , 0.        , 0.        , 0.        , 0.        ,\n",
       "         0.21071141, 0.        , 0.        , 0.        , 0.        ,\n",
       "         0.        , 0.        , 0.        , 0.        , 0.        ,\n",
       "         0.        , 0.        , 0.        , 0.        , 0.        ,\n",
       "         0.17278637, 0.        , 0.        , 0.        , 0.        ,\n",
       "         0.        , 0.        , 0.        , 0.        , 0.        ,\n",
       "         0.        , 0.        , 0.        , 0.        , 0.        ,\n",
       "         0.        , 0.        , 0.        , 0.        , 0.        ,\n",
       "         0.        , 0.        , 0.17278637, 0.17278637, 0.        ,\n",
       "         0.        , 0.        , 0.        , 0.        , 0.        ,\n",
       "         0.        , 0.        , 0.        , 0.        , 0.        ,\n",
       "         0.        , 0.        , 0.        , 0.        , 0.        ,\n",
       "         0.        , 0.        , 0.        , 0.        , 0.21071141,\n",
       "         0.        , 0.17278637, 0.        , 0.        , 0.        ,\n",
       "         0.10795309, 0.        , 0.        , 0.        , 0.        ,\n",
       "         0.        , 0.        , 0.        , 0.21071141, 0.        ,\n",
       "         0.        , 0.        , 0.        , 0.        , 0.        ,\n",
       "         0.        , 0.        , 0.        , 0.        , 0.        ,\n",
       "         0.12500647, 0.        , 0.        , 0.        ]])"
      ]
     },
     "execution_count": 51,
     "metadata": {},
     "output_type": "execute_result"
    }
   ],
   "source": [
    "tfidf_vectors[0].todense()"
   ]
  },
  {
   "cell_type": "markdown",
   "metadata": {},
   "source": [
    "#### The word \"book\" is #28 in the vocabulary\n",
    "We check out its tf-idf weights for each of the 6 documents"
   ]
  },
  {
   "cell_type": "code",
   "execution_count": 52,
   "metadata": {},
   "outputs": [
    {
     "data": {
      "text/plain": [
       "'book'"
      ]
     },
     "execution_count": 52,
     "metadata": {},
     "output_type": "execute_result"
    }
   ],
   "source": [
    "tfidf_vectorizer.get_feature_names()[28]"
   ]
  },
  {
   "cell_type": "code",
   "execution_count": 53,
   "metadata": {},
   "outputs": [
    {
     "data": {
      "text/plain": [
       "matrix([[0.29175625],\n",
       "        [0.16944489],\n",
       "        [0.        ],\n",
       "        [0.        ],\n",
       "        [0.0960694 ],\n",
       "        [0.        ]])"
      ]
     },
     "execution_count": 53,
     "metadata": {},
     "output_type": "execute_result"
    }
   ],
   "source": [
    "tfidf_vectors[:, 28].todense()"
   ]
  },
  {
   "cell_type": "markdown",
   "metadata": {},
   "source": [
    "#### Take one more look at the first document"
   ]
  },
  {
   "cell_type": "code",
   "execution_count": 54,
   "metadata": {},
   "outputs": [
    {
     "data": {
      "text/plain": [
       "'this book be perfect im a first time new mom and this book make it so easy to keep track of feed diaper change sleep definitely would recommend this for new moms plus its small enough that i throw in the diaper back for doctor visit'"
      ]
     },
     "execution_count": 54,
     "metadata": {},
     "output_type": "execute_result"
    }
   ],
   "source": [
    "documents[0]"
   ]
  },
  {
   "cell_type": "markdown",
   "metadata": {},
   "source": [
    "#### Examine the vectors for the first doc"
   ]
  },
  {
   "cell_type": "code",
   "execution_count": 55,
   "metadata": {},
   "outputs": [],
   "source": [
    "first_vector = tfidf_vectors[0]"
   ]
  },
  {
   "cell_type": "code",
   "execution_count": 56,
   "metadata": {},
   "outputs": [],
   "source": [
    "df = pd.DataFrame(first_vector.T.todense(), \n",
    "                  index=tfidf_vectorizer.get_feature_names(), \n",
    "                  columns=[\"TF-IDF Weight\"])"
   ]
  },
  {
   "cell_type": "code",
   "execution_count": 57,
   "metadata": {},
   "outputs": [
    {
     "data": {
      "text/html": [
       "<div>\n",
       "<style scoped>\n",
       "    .dataframe tbody tr th:only-of-type {\n",
       "        vertical-align: middle;\n",
       "    }\n",
       "\n",
       "    .dataframe tbody tr th {\n",
       "        vertical-align: top;\n",
       "    }\n",
       "\n",
       "    .dataframe thead th {\n",
       "        text-align: right;\n",
       "    }\n",
       "</style>\n",
       "<table border=\"1\" class=\"dataframe\">\n",
       "  <thead>\n",
       "    <tr style=\"text-align: right;\">\n",
       "      <th></th>\n",
       "      <th>TF-IDF Weight</th>\n",
       "    </tr>\n",
       "  </thead>\n",
       "  <tbody>\n",
       "    <tr>\n",
       "      <th>back</th>\n",
       "      <td>0.172786</td>\n",
       "    </tr>\n",
       "    <tr>\n",
       "      <th>throw</th>\n",
       "      <td>0.210711</td>\n",
       "    </tr>\n",
       "    <tr>\n",
       "      <th>perfect</th>\n",
       "      <td>0.210711</td>\n",
       "    </tr>\n",
       "    <tr>\n",
       "      <th>enough</th>\n",
       "      <td>0.210711</td>\n",
       "    </tr>\n",
       "    <tr>\n",
       "      <th>visit</th>\n",
       "      <td>0.210711</td>\n",
       "    </tr>\n",
       "    <tr>\n",
       "      <th>moms</th>\n",
       "      <td>0.210711</td>\n",
       "    </tr>\n",
       "    <tr>\n",
       "      <th>plus</th>\n",
       "      <td>0.210711</td>\n",
       "    </tr>\n",
       "    <tr>\n",
       "      <th>diaper</th>\n",
       "      <td>0.250013</td>\n",
       "    </tr>\n",
       "    <tr>\n",
       "      <th>book</th>\n",
       "      <td>0.291756</td>\n",
       "    </tr>\n",
       "    <tr>\n",
       "      <th>new</th>\n",
       "      <td>0.421423</td>\n",
       "    </tr>\n",
       "  </tbody>\n",
       "</table>\n",
       "</div>"
      ],
      "text/plain": [
       "         TF-IDF Weight\n",
       "back          0.172786\n",
       "throw         0.210711\n",
       "perfect       0.210711\n",
       "enough        0.210711\n",
       "visit         0.210711\n",
       "moms          0.210711\n",
       "plus          0.210711\n",
       "diaper        0.250013\n",
       "book          0.291756\n",
       "new           0.421423"
      ]
     },
     "execution_count": 57,
     "metadata": {},
     "output_type": "execute_result"
    }
   ],
   "source": [
    "df.sort_values(by=[\"TF-IDF Weight\"]).tail(10)"
   ]
  },
  {
   "cell_type": "markdown",
   "metadata": {},
   "source": [
    "#### Words with a score of zero for this document\n",
    "These appear in other documents in the corpus but not in the first one"
   ]
  },
  {
   "cell_type": "code",
   "execution_count": 58,
   "metadata": {},
   "outputs": [
    {
     "data": {
      "text/html": [
       "<div>\n",
       "<style scoped>\n",
       "    .dataframe tbody tr th:only-of-type {\n",
       "        vertical-align: middle;\n",
       "    }\n",
       "\n",
       "    .dataframe tbody tr th {\n",
       "        vertical-align: top;\n",
       "    }\n",
       "\n",
       "    .dataframe thead th {\n",
       "        text-align: right;\n",
       "    }\n",
       "</style>\n",
       "<table border=\"1\" class=\"dataframe\">\n",
       "  <thead>\n",
       "    <tr style=\"text-align: right;\">\n",
       "      <th></th>\n",
       "      <th>TF-IDF Weight</th>\n",
       "    </tr>\n",
       "  </thead>\n",
       "  <tbody>\n",
       "    <tr>\n",
       "      <th>24hour</th>\n",
       "      <td>0.0</td>\n",
       "    </tr>\n",
       "    <tr>\n",
       "      <th>nitpick</th>\n",
       "      <td>0.0</td>\n",
       "    </tr>\n",
       "    <tr>\n",
       "      <th>note</th>\n",
       "      <td>0.0</td>\n",
       "    </tr>\n",
       "    <tr>\n",
       "      <th>notebook</th>\n",
       "      <td>0.0</td>\n",
       "    </tr>\n",
       "    <tr>\n",
       "      <th>often</th>\n",
       "      <td>0.0</td>\n",
       "    </tr>\n",
       "    <tr>\n",
       "      <th>okay</th>\n",
       "      <td>0.0</td>\n",
       "    </tr>\n",
       "    <tr>\n",
       "      <th>old</th>\n",
       "      <td>0.0</td>\n",
       "    </tr>\n",
       "    <tr>\n",
       "      <th>one</th>\n",
       "      <td>0.0</td>\n",
       "    </tr>\n",
       "    <tr>\n",
       "      <th>ones</th>\n",
       "      <td>0.0</td>\n",
       "    </tr>\n",
       "    <tr>\n",
       "      <th>open</th>\n",
       "      <td>0.0</td>\n",
       "    </tr>\n",
       "  </tbody>\n",
       "</table>\n",
       "</div>"
      ],
      "text/plain": [
       "          TF-IDF Weight\n",
       "24hour              0.0\n",
       "nitpick             0.0\n",
       "note                0.0\n",
       "notebook            0.0\n",
       "often               0.0\n",
       "okay                0.0\n",
       "old                 0.0\n",
       "one                 0.0\n",
       "ones                0.0\n",
       "open                0.0"
      ]
     },
     "execution_count": 58,
     "metadata": {},
     "output_type": "execute_result"
    }
   ],
   "source": [
    "df.sort_values(by=[\"TF-IDF Weight\"]).head(10)"
   ]
  },
  {
   "cell_type": "code",
   "execution_count": null,
   "metadata": {},
   "outputs": [],
   "source": []
  },
  {
   "cell_type": "code",
   "execution_count": null,
   "metadata": {},
   "outputs": [],
   "source": []
  }
 ],
 "metadata": {
  "kernelspec": {
   "display_name": "Python 3 (ipykernel)",
   "language": "python",
   "name": "python3"
  },
  "language_info": {
   "codemirror_mode": {
    "name": "ipython",
    "version": 3
   },
   "file_extension": ".py",
   "mimetype": "text/x-python",
   "name": "python",
   "nbconvert_exporter": "python",
   "pygments_lexer": "ipython3",
   "version": "3.8.8"
  }
 },
 "nbformat": 4,
 "nbformat_minor": 2
}
